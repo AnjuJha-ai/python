{
 "cells": [
  {
   "cell_type": "code",
   "execution_count": 1,
   "id": "0384ddc1",
   "metadata": {},
   "outputs": [],
   "source": []
  },
  {
   "cell_type": "code",
   "execution_count": 2,
   "id": "882a26fa",
   "metadata": {},
   "outputs": [
    {
     "name": "stdout",
     "output_type": "stream",
     "text": [
      "1\n",
      "1\n",
      "0\n",
      "0\n"
     ]
    }
   ],
   "source": [
    "def prime(n):\n",
    "    if n<2:\n",
    "        return 0\n",
    "    i=2\n",
    "    while np.square(i)<=n:\n",
    "        if n%i==0:\n",
    "            return 0\n",
    "        i+=1\n",
    "    return 1\n",
    "\n",
    "print(prime(11))\n",
    "print(prime(3))\n",
    "print(prime(12))\n",
    "print(prime(1))"
   ]
  },
  {
   "cell_type": "code",
   "execution_count": 9,
   "id": "d003e03d",
   "metadata": {},
   "outputs": [
    {
     "name": "stdout",
     "output_type": "stream",
     "text": [
      "enter the number for test:1254521\n",
      "yes is pallindrome\n"
     ]
    }
   ],
   "source": [
    "number=input('enter the number for test:')\n",
    "if number==number[::-1]:\n",
    "    print('yes is pallindrome')\n",
    "else:\n",
    "    print('no is not pallindrome')"
   ]
  },
  {
   "cell_type": "code",
   "execution_count": null,
   "id": "df53f9d8",
   "metadata": {},
   "outputs": [],
   "source": []
  },
  {
   "cell_type": "code",
   "execution_count": null,
   "id": "005ff3f1",
   "metadata": {},
   "outputs": [],
   "source": []
  }
 ],
 "metadata": {
  "kernelspec": {
   "display_name": "Python 3 (ipykernel)",
   "language": "python",
   "name": "python3"
  },
  "language_info": {
   "codemirror_mode": {
    "name": "ipython",
    "version": 3
   },
   "file_extension": ".py",
   "mimetype": "text/x-python",
   "name": "python",
   "nbconvert_exporter": "python",
   "pygments_lexer": "ipython3",
   "version": "3.11.4"
  }
 },
 "nbformat": 4,
 "nbformat_minor": 5
}
