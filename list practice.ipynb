{
 "cells": [
  {
   "cell_type": "code",
   "execution_count": 4,
   "id": "a9d8b407",
   "metadata": {},
   "outputs": [
    {
     "data": {
      "text/plain": [
       "list"
      ]
     },
     "execution_count": 4,
     "metadata": {},
     "output_type": "execute_result"
    }
   ],
   "source": [
    "list1 = [\"abc\", 34, True, 40, \"male\"]\n",
    "type(list1)"
   ]
  },
  {
   "cell_type": "code",
   "execution_count": 5,
   "id": "ffbde574",
   "metadata": {},
   "outputs": [
    {
     "data": {
      "text/plain": [
       "str"
      ]
     },
     "execution_count": 5,
     "metadata": {},
     "output_type": "execute_result"
    }
   ],
   "source": [
    "type(list1[0])"
   ]
  },
  {
   "cell_type": "code",
   "execution_count": 6,
   "id": "f1465e7d",
   "metadata": {},
   "outputs": [
    {
     "data": {
      "text/plain": [
       "int"
      ]
     },
     "execution_count": 6,
     "metadata": {},
     "output_type": "execute_result"
    }
   ],
   "source": [
    "type(list1[3])"
   ]
  },
  {
   "cell_type": "code",
   "execution_count": null,
   "id": "2addc983",
   "metadata": {},
   "outputs": [],
   "source": [
    "type(list1[2])"
   ]
  },
  {
   "cell_type": "code",
   "execution_count": 6,
   "id": "e7207f51",
   "metadata": {},
   "outputs": [
    {
     "name": "stdout",
     "output_type": "stream",
     "text": [
      "yes\n",
      "('abc', 'cde', 'des', 'red')\n"
     ]
    }
   ],
   "source": [
    "\n",
    "if 'cde' in list:\n",
    "    print('yes')\n",
    "print(list)"
   ]
  },
  {
   "cell_type": "code",
   "execution_count": 7,
   "id": "cfe6383b",
   "metadata": {},
   "outputs": [
    {
     "name": "stdout",
     "output_type": "stream",
     "text": [
      "['abc', 'pge', 'des', 'red']\n"
     ]
    }
   ],
   "source": [
    "list=['abc', 'cde', 'des', 'red']\n",
    "list[1]='pge'\n",
    "print(list)"
   ]
  },
  {
   "cell_type": "code",
   "execution_count": 8,
   "id": "d0f6c3bf",
   "metadata": {},
   "outputs": [],
   "source": [
    "list[1:3]=['gre','cne']"
   ]
  },
  {
   "cell_type": "code",
   "execution_count": 9,
   "id": "eea2843a",
   "metadata": {},
   "outputs": [
    {
     "name": "stdout",
     "output_type": "stream",
     "text": [
      "['abc', 'gre', 'cne', 'red']\n"
     ]
    }
   ],
   "source": [
    "print(list)"
   ]
  },
  {
   "cell_type": "code",
   "execution_count": 11,
   "id": "b4c0a990",
   "metadata": {},
   "outputs": [
    {
     "name": "stdout",
     "output_type": "stream",
     "text": [
      "['abc', 'gre', 'hed', 'hed', 'cne', 'red']\n"
     ]
    }
   ],
   "source": [
    "list.insert(2,'hed')\n",
    "print(list)"
   ]
  },
  {
   "cell_type": "code",
   "execution_count": 12,
   "id": "d0dc0f03",
   "metadata": {},
   "outputs": [
    {
     "name": "stdout",
     "output_type": "stream",
     "text": [
      "['abc', 'gre', 'hed', 'hed', 'cne', 'red', 'der']\n"
     ]
    }
   ],
   "source": [
    "list.append('der')\n",
    "print(list)"
   ]
  },
  {
   "cell_type": "code",
   "execution_count": 13,
   "id": "41ec5430",
   "metadata": {},
   "outputs": [
    {
     "name": "stdout",
     "output_type": "stream",
     "text": [
      "['abc', 'gre', 'hed', 'hed', 'cne', 'red', 'der']\n"
     ]
    }
   ],
   "source": [
    "print(list)"
   ]
  },
  {
   "cell_type": "code",
   "execution_count": 14,
   "id": "78adde79",
   "metadata": {},
   "outputs": [
    {
     "name": "stdout",
     "output_type": "stream",
     "text": [
      "['abc', 'gre', 'hed', 'hed', 'cne', 'red', 'der', 'abc', 'gre', 'hed', 'hed', 'cne', 'red', 'der']\n"
     ]
    }
   ],
   "source": [
    "list=['abc', 'gre', 'hed', 'hed', 'cne', 'red', 'der']\n",
    "tuple=('abc', 'gre', 'hed', 'hed', 'cne', 'red', 'der')\n",
    "list.extend(tuple)\n",
    "print(list)"
   ]
  },
  {
   "cell_type": "code",
   "execution_count": 15,
   "id": "94e6e4ac",
   "metadata": {},
   "outputs": [
    {
     "name": "stdout",
     "output_type": "stream",
     "text": [
      "['der', 'red', 'cne', 'hed', 'hed', 'gre', 'abc']\n"
     ]
    }
   ],
   "source": [
    "list=['abc', 'gre', 'hed', 'hed', 'cne', 'red', 'der']\n",
    "list.reverse()\n",
    "print(list)\n",
    "tuple=('abc', 'gre', 'hed', 'hed', 'cne', 'red', 'der')"
   ]
  },
  {
   "cell_type": "code",
   "execution_count": 18,
   "id": "f9913089",
   "metadata": {},
   "outputs": [
    {
     "name": "stdout",
     "output_type": "stream",
     "text": [
      "['abc', 'gre', 'hed', 'hed', 'cne', 'red', 'der', 'der', 'red', 'cne', 'hed', 'hed', 'gre', 'abc']\n"
     ]
    }
   ],
   "source": [
    "tuple=('der', 'red', 'cne', 'hed', 'hed', 'gre', 'abc')\n",
    "list.extend(tuple)\n",
    "print(list)"
   ]
  },
  {
   "cell_type": "code",
   "execution_count": 19,
   "id": "b59becd6",
   "metadata": {},
   "outputs": [
    {
     "name": "stdout",
     "output_type": "stream",
     "text": [
      "['abc', 'gre', 'hed', 'hed', 'cne', 'red', 'der', 'red', 'cne', 'hed', 'hed', 'gre', 'abc']\n"
     ]
    }
   ],
   "source": [
    "list.remove('der')\n",
    "print(list)"
   ]
  },
  {
   "cell_type": "code",
   "execution_count": 20,
   "id": "25108d24",
   "metadata": {},
   "outputs": [
    {
     "name": "stdout",
     "output_type": "stream",
     "text": [
      "['abc', 'gre', 'hed', 'cne', 'red', 'der', 'red', 'cne', 'hed', 'hed', 'gre', 'abc']\n"
     ]
    }
   ],
   "source": [
    "list.pop(3)\n",
    "print(list)"
   ]
  },
  {
   "cell_type": "code",
   "execution_count": 21,
   "id": "5d858ec6",
   "metadata": {},
   "outputs": [
    {
     "name": "stdout",
     "output_type": "stream",
     "text": [
      "['abc', 'gre', 'hed', 'cne', 'red', 'der', 'red', 'cne', 'hed', 'hed', 'gre']\n"
     ]
    }
   ],
   "source": [
    "list.pop()\n",
    "print(list)"
   ]
  },
  {
   "cell_type": "code",
   "execution_count": 23,
   "id": "1ca1e84b",
   "metadata": {},
   "outputs": [
    {
     "name": "stdout",
     "output_type": "stream",
     "text": [
      "['abc', 'gre', 'hed', 'cne', 'red', 'der', 'cne', 'hed', 'hed', 'gre']\n"
     ]
    }
   ],
   "source": [
    "del list[6]\n",
    "print(list)"
   ]
  },
  {
   "cell_type": "code",
   "execution_count": 27,
   "id": "b96525ca",
   "metadata": {},
   "outputs": [
    {
     "name": "stdout",
     "output_type": "stream",
     "text": [
      "abc\n",
      "gre\n",
      "hed\n",
      "cne\n",
      "red\n",
      "der\n",
      "cne\n",
      "hed\n",
      "hed\n",
      "gre\n"
     ]
    }
   ],
   "source": [
    "list=['abc', 'gre', 'hed', 'cne', 'red', 'der', 'cne', 'hed', 'hed', 'gre']\n",
    "for x in list:\n",
    "    print(x)"
   ]
  },
  {
   "cell_type": "code",
   "execution_count": 28,
   "id": "2af30fb9",
   "metadata": {},
   "outputs": [
    {
     "name": "stdout",
     "output_type": "stream",
     "text": [
      "abc\n",
      "gre\n",
      "hed\n",
      "cne\n",
      "red\n",
      "der\n",
      "cne\n",
      "hed\n",
      "hed\n",
      "gre\n"
     ]
    }
   ],
   "source": [
    "for x in range(len(list)):\n",
    "    print(list[x])"
   ]
  },
  {
   "cell_type": "code",
   "execution_count": 30,
   "id": "464bd5fd",
   "metadata": {},
   "outputs": [
    {
     "name": "stdout",
     "output_type": "stream",
     "text": [
      "abc\n",
      "gre\n",
      "hed\n",
      "cne\n",
      "red\n",
      "der\n",
      "cne\n",
      "hed\n",
      "hed\n",
      "gre\n"
     ]
    }
   ],
   "source": [
    "list=['abc', 'gre', 'hed', 'cne', 'red', 'der', 'cne', 'hed', 'hed', 'gre']\n",
    "i=0\n",
    "while i<len(list):\n",
    "    print(list[i])\n",
    "    i=i+1\n",
    "    "
   ]
  },
  {
   "cell_type": "code",
   "execution_count": 31,
   "id": "9c0363fd",
   "metadata": {},
   "outputs": [
    {
     "name": "stdout",
     "output_type": "stream",
     "text": [
      "abc\n",
      "gre\n",
      "hed\n",
      "cne\n",
      "red\n",
      "der\n",
      "cne\n",
      "hed\n",
      "hed\n",
      "gre\n"
     ]
    },
    {
     "data": {
      "text/plain": [
       "[None, None, None, None, None, None, None, None, None, None]"
      ]
     },
     "execution_count": 31,
     "metadata": {},
     "output_type": "execute_result"
    }
   ],
   "source": [
    "list=['abc', 'gre', 'hed', 'cne', 'red', 'der', 'cne', 'hed', 'hed', 'gre']\n",
    "[print(x) for x in list]"
   ]
  },
  {
   "cell_type": "code",
   "execution_count": 33,
   "id": "7fecb0df",
   "metadata": {},
   "outputs": [
    {
     "name": "stdout",
     "output_type": "stream",
     "text": [
      "['orange', 'mango', 'grapes']\n"
     ]
    }
   ],
   "source": [
    "fruits=['orange','mango','grapes','kiwi']\n",
    "like=[]\n",
    "for x in fruits:\n",
    "    if 'g' in x:\n",
    "        like.append(x)\n",
    "print(like)"
   ]
  },
  {
   "cell_type": "code",
   "execution_count": 34,
   "id": "3965d2fa",
   "metadata": {},
   "outputs": [
    {
     "name": "stdout",
     "output_type": "stream",
     "text": [
      "['mango']\n"
     ]
    }
   ],
   "source": [
    "fruits=['orange','mango','grapes','kiwi']\n",
    "like=[x for x in fruits if'm' in x]\n",
    "print(like)"
   ]
  },
  {
   "cell_type": "code",
   "execution_count": 35,
   "id": "52d949a2",
   "metadata": {},
   "outputs": [],
   "source": [
    "new=[x for x in range(10) if x<5]"
   ]
  },
  {
   "cell_type": "code",
   "execution_count": 36,
   "id": "a48629f8",
   "metadata": {},
   "outputs": [
    {
     "name": "stdout",
     "output_type": "stream",
     "text": [
      "[0, 1, 2, 3, 4]\n"
     ]
    }
   ],
   "source": [
    "print(new)"
   ]
  },
  {
   "cell_type": "code",
   "execution_count": 37,
   "id": "bdcd95a8",
   "metadata": {},
   "outputs": [
    {
     "name": "stdout",
     "output_type": "stream",
     "text": [
      "['ORANGE', 'MANGO', 'GRAPES', 'KIWI']\n"
     ]
    }
   ],
   "source": [
    "new=[x.upper() for x in fruits]\n",
    "print(new)"
   ]
  },
  {
   "cell_type": "code",
   "execution_count": 38,
   "id": "6bf332c4",
   "metadata": {},
   "outputs": [],
   "source": [
    "new=[x if x!='MANGO' else 'grapes'for x in fruits]"
   ]
  },
  {
   "cell_type": "code",
   "execution_count": 40,
   "id": "7f01106a",
   "metadata": {},
   "outputs": [
    {
     "name": "stdout",
     "output_type": "stream",
     "text": [
      "['orange', 'mango', 'grapes', 'kiwi']\n",
      "['orange', 'mango', 'grapes', 'kiwi']\n"
     ]
    }
   ],
   "source": [
    "print(new)\n",
    "print(fruits)"
   ]
  },
  {
   "cell_type": "code",
   "execution_count": 41,
   "id": "85783988",
   "metadata": {},
   "outputs": [
    {
     "name": "stdout",
     "output_type": "stream",
     "text": [
      "['grapes', 'kiwi', 'mango', 'orange']\n"
     ]
    }
   ],
   "source": [
    "fruits.sort()\n",
    "print(fruits)"
   ]
  },
  {
   "cell_type": "code",
   "execution_count": 42,
   "id": "56216c2b",
   "metadata": {},
   "outputs": [
    {
     "name": "stdout",
     "output_type": "stream",
     "text": [
      "[30, 40, 50, 60, 100, 120]\n"
     ]
    }
   ],
   "source": [
    "number=[100,120,30,40,50,60]\n",
    "number.sort()\n",
    "print(number)\n"
   ]
  },
  {
   "cell_type": "code",
   "execution_count": 43,
   "id": "790df569",
   "metadata": {},
   "outputs": [
    {
     "name": "stdout",
     "output_type": "stream",
     "text": [
      "[120, 100, 60, 50, 40, 30]\n"
     ]
    }
   ],
   "source": [
    "number.sort(reverse=True)\n",
    "print(number)"
   ]
  },
  {
   "cell_type": "code",
   "execution_count": 44,
   "id": "662f4471",
   "metadata": {},
   "outputs": [
    {
     "name": "stdout",
     "output_type": "stream",
     "text": [
      "['orange', 'mango', 'kiwi', 'grapes']\n"
     ]
    }
   ],
   "source": [
    "fruits.sort(reverse=True)\n",
    "print(fruits)"
   ]
  },
  {
   "cell_type": "code",
   "execution_count": null,
   "id": "74294889",
   "metadata": {},
   "outputs": [],
   "source": []
  }
 ],
 "metadata": {
  "kernelspec": {
   "display_name": "Python 3 (ipykernel)",
   "language": "python",
   "name": "python3"
  },
  "language_info": {
   "codemirror_mode": {
    "name": "ipython",
    "version": 3
   },
   "file_extension": ".py",
   "mimetype": "text/x-python",
   "name": "python",
   "nbconvert_exporter": "python",
   "pygments_lexer": "ipython3",
   "version": "3.11.4"
  }
 },
 "nbformat": 4,
 "nbformat_minor": 5
}
