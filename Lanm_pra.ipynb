{
 "cells": [
  {
   "cell_type": "code",
   "execution_count": null,
   "id": "be6f04c9",
   "metadata": {},
   "outputs": [],
   "source": [
    "import math\n",
    "def print(r,c,matrix):\n",
    "    print(\"your matrix is:\")\n",
    "    for i in range(r):\n",
    "        for j in range(c):\n",
    "            print(\"matrix[i][j],endl\")\n",
    "        print()"
   ]
  },
  {
   "cell_type": "code",
   "execution_count": null,
   "id": "573a272a",
   "metadata": {},
   "outputs": [],
   "source": [
    "def diagonal(matrix,r):\n",
    "    diagonal=[]\n",
    "    for i in range(r):\n",
    "        diagonal.append(matrix[i][j])\n",
    "    return(diagonal)\n",
    "print(diagonal)"
   ]
  },
  {
   "cell_type": "code",
   "execution_count": null,
   "id": "c4d4b71a",
   "metadata": {},
   "outputs": [],
   "source": [
    "def trace(diagonal):\n",
    "    for i in diagonal:\n",
    "        trace=trace+i\n",
    "    return(trace)\n",
    "print(\"trace of matrix\",trace(matrix,r))\n"
   ]
  },
  {
   "cell_type": "markdown",
   "id": "adb7be3a",
   "metadata": {},
   "source": [
    "while(True):\n",
    "    r=int(input(\"enter row:\"))\n",
    "    c=int(input(\"enter column:\"))\n",
    "    if(r!=c):\n",
    "        print(\"row not equal to column deterministic\")\n",
    "        continue;\n",
    "    else:\n",
    "        print(\"enter element row wise:\",r)\n",
    "        matrix=[]\n",
    "        for i in range(r):\n",
    "            element=int(input(\"enter element:\"))\n",
    "            matrix.append(element)\n",
    "            \n",
    "    "
   ]
  },
  {
   "cell_type": "code",
   "execution_count": 10,
   "id": "6afd4d0e",
   "metadata": {},
   "outputs": [
    {
     "ename": "TypeError",
     "evalue": "print() missing 2 required positional arguments: 'c' and 'matrix'",
     "output_type": "error",
     "traceback": [
      "\u001b[1;31m---------------------------------------------------------------------------\u001b[0m",
      "\u001b[1;31mTypeError\u001b[0m                                 Traceback (most recent call last)",
      "Cell \u001b[1;32mIn[10], line 2\u001b[0m\n\u001b[0;32m      1\u001b[0m \u001b[38;5;28;01mwhile\u001b[39;00m(\u001b[38;5;28;01mTrue\u001b[39;00m):\n\u001b[1;32m----> 2\u001b[0m     \u001b[38;5;28mprint\u001b[39m(\u001b[38;5;124m\"\u001b[39m\u001b[38;5;130;01m\\n\u001b[39;00m\u001b[38;5;124m--------------------------------------\u001b[39m\u001b[38;5;124m\"\u001b[39m)\n\u001b[0;32m      3\u001b[0m     \u001b[38;5;28mprint\u001b[39m(\u001b[38;5;124m\"\u001b[39m\u001b[38;5;124mselect the menu: \u001b[39m\u001b[38;5;130;01m\\n\u001b[39;00m\u001b[38;5;124m\"\u001b[39m)\n\u001b[0;32m      4\u001b[0m     \u001b[38;5;28mprint\u001b[39m(\u001b[38;5;124m\"\u001b[39m\u001b[38;5;124m1 print matrix:\u001b[39m\u001b[38;5;124m\"\u001b[39m)\n",
      "\u001b[1;31mTypeError\u001b[0m: print() missing 2 required positional arguments: 'c' and 'matrix'"
     ]
    }
   ],
   "source": [
    "while(True):\n",
    "    print(\"\\n--------------------------------------\")\n",
    "    print(\"select the menu: \\n\")\n",
    "    print(\"1 print matrix:\")\n",
    "    print(\"2 print diagonal:\")\n",
    "    print(\"3 print trace:\")\n",
    "    print(\"\\n\")\n",
    "    menu=int(input(\"\\n enter 1/2/3/4\"))\n",
    "    if(menu==1):\n",
    "        print(r,c,matrix)\n",
    "        continue;\n",
    "    elif(menu==2):\n",
    "        print(\"\\n diagonal of matrix:\",diagonal(matrix,r))\n",
    "        continue;\n",
    "    elif(menu==3):\n",
    "        print(\"\\n trace of matrix:\",trace)\n",
    "        continue;\n",
    "    else:\n",
    "        print(\"\\n enter valid choice:\")\n",
    "        continue;\n",
    "break;\n",
    "        "
   ]
  },
  {
   "cell_type": "code",
   "execution_count": null,
   "id": "dee17272",
   "metadata": {},
   "outputs": [],
   "source": []
  }
 ],
 "metadata": {
  "kernelspec": {
   "display_name": "Python 3 (ipykernel)",
   "language": "python",
   "name": "python3"
  },
  "language_info": {
   "codemirror_mode": {
    "name": "ipython",
    "version": 3
   },
   "file_extension": ".py",
   "mimetype": "text/x-python",
   "name": "python",
   "nbconvert_exporter": "python",
   "pygments_lexer": "ipython3",
   "version": "3.11.4"
  }
 },
 "nbformat": 4,
 "nbformat_minor": 5
}
