{
 "cells": [
  {
   "cell_type": "code",
   "execution_count": 1,
   "id": "ca47b849",
   "metadata": {},
   "outputs": [
    {
     "name": "stdout",
     "output_type": "stream",
     "text": [
      "Diagonal of matrix: [1, 5, 1]\n",
      "trace of matrix: 7\n"
     ]
    }
   ],
   "source": [
    "matrix=[[1,2,3],[4,5,6],[3,2,1]]\n",
    "diagonal=[]\n",
    "trace=0\n",
    "for i in range(len(matrix)):\n",
    "    for j in range(len(matrix)):\n",
    "        if (i==j):\n",
    "            diagonal.append(matrix[i][j])\n",
    "            trace+=matrix[i][j]\n",
    "print(\"Diagonal of matrix:\",diagonal)\n",
    "print(\"trace of matrix:\",trace)"
   ]
  },
  {
   "cell_type": "code",
   "execution_count": 5,
   "id": "a8dc96b2",
   "metadata": {},
   "outputs": [
    {
     "name": "stdout",
     "output_type": "stream",
     "text": [
      "[[1, 4, 7], [1, 4, 7], [1, 4, 7], [2, 5, 8], [2, 5, 8], [2, 5, 8], [3, 6, 9], [3, 6, 9], [3, 6, 9]]\n"
     ]
    }
   ],
   "source": [
    "matrix=[[1,2,3],[4,5,6],[7,8,9]]\n",
    "transpose=[]\n",
    "for i in range(len(matrix[0])):\n",
    "    row=[]\n",
    "    for j in range(len(matrix)):\n",
    "        row.append(matrix[j][i])\n",
    "        transpose.append(row)\n",
    "print(transpose)\n"
   ]
  },
  {
   "cell_type": "code",
   "execution_count": 3,
   "id": "b1b8718b",
   "metadata": {},
   "outputs": [
    {
     "name": "stdout",
     "output_type": "stream",
     "text": [
      "[[1, 4, 7], [2, 5, 8], [3, 6, 9]]\n"
     ]
    }
   ],
   "source": [
    "# Define the original matrix\n",
    "matrix = [\n",
    "    [1, 2, 3],\n",
    "    [4, 5, 6],\n",
    "    [7, 8, 9]\n",
    "]\n",
    "\n",
    "# Initialize an empty matrix to store the transpose\n",
    "transpose = []\n",
    "\n",
    "# Iterate over the columns of the original matrix\n",
    "for i in range(len(matrix[0])):\n",
    "    # Initialize an empty row to store the ith column of the original matrix\n",
    "    row = []\n",
    "    # Iterate over the rows of the original matrix\n",
    "    for j in range(len(matrix)):\n",
    "        # Append the element at row j and column i of the original matrix to the row\n",
    "        row.append(matrix[j][i])\n",
    "    # Append the row to the transpose matrix\n",
    "    transpose.append(row)\n",
    "\n",
    "# Print the transpose matrix\n",
    "print(transpose)\n"
   ]
  },
  {
   "cell_type": "code",
   "execution_count": 6,
   "id": "12a4d851",
   "metadata": {},
   "outputs": [
    {
     "name": "stdout",
     "output_type": "stream",
     "text": [
      "[[1, 4, 7], [1, 4, 7], [1, 4, 7], [2, 5, 8], [2, 5, 8], [2, 5, 8], [3, 6, 9], [3, 6, 9], [3, 6, 9]]\n"
     ]
    }
   ],
   "source": [
    "matrix=[[1,2,3],[4,5,6],[7,8,9]]\n",
    "transpose=[]\n",
    "for i in range(len(matrix[0])):\n",
    "    row=[]\n",
    "    for j in range(len(matrix)):\n",
    "        row.append(matrix[j][i])\n",
    "        transpose.append(row)\n",
    "print(transpose)"
   ]
  },
  {
   "cell_type": "code",
   "execution_count": 15,
   "id": "f9cbbeae",
   "metadata": {},
   "outputs": [],
   "source": [
    "def scalar_mult(matrix,scalar):\n",
    "    result=[]\n",
    "    for row in matrix:\n",
    "        new_row=[]\n",
    "        for element in row:\n",
    "            new_row.append(element*scalar)\n",
    "            result.append(new_row)\n",
    "    return result\n"
   ]
  },
  {
   "cell_type": "code",
   "execution_count": 16,
   "id": "33d391da",
   "metadata": {
    "scrolled": true
   },
   "outputs": [
    {
     "name": "stdout",
     "output_type": "stream",
     "text": [
      "scalar multiplication of matrix1 by 5 :\n"
     ]
    },
    {
     "name": "stderr",
     "output_type": "stream",
     "text": [
      "<>:22: SyntaxWarning: 'str' object is not callable; perhaps you missed a comma?\n",
      "<>:22: SyntaxWarning: 'str' object is not callable; perhaps you missed a comma?\n",
      "C:\\Users\\22anj\\AppData\\Local\\Temp\\ipykernel_12372\\2543871508.py:22: SyntaxWarning: 'str' object is not callable; perhaps you missed a comma?\n",
      "  print(\"scalar_mult\"(matrix,scalar))\n"
     ]
    },
    {
     "ename": "TypeError",
     "evalue": "'str' object is not callable",
     "output_type": "error",
     "traceback": [
      "\u001b[1;31m---------------------------------------------------------------------------\u001b[0m",
      "\u001b[1;31mTypeError\u001b[0m                                 Traceback (most recent call last)",
      "Cell \u001b[1;32mIn[16], line 22\u001b[0m\n\u001b[0;32m     20\u001b[0m scalar\u001b[38;5;241m=\u001b[39m\u001b[38;5;241m5\u001b[39m\n\u001b[0;32m     21\u001b[0m \u001b[38;5;28mprint\u001b[39m(\u001b[38;5;124m\"\u001b[39m\u001b[38;5;124mscalar multiplication of matrix1 by\u001b[39m\u001b[38;5;124m\"\u001b[39m,scalar,\u001b[38;5;124m\"\u001b[39m\u001b[38;5;124m:\u001b[39m\u001b[38;5;124m\"\u001b[39m)\n\u001b[1;32m---> 22\u001b[0m \u001b[38;5;28mprint\u001b[39m(\u001b[38;5;124m\"\u001b[39m\u001b[38;5;124mscalar_mult\u001b[39m\u001b[38;5;124m\"\u001b[39m(matrix,scalar))\n\u001b[0;32m     23\u001b[0m \u001b[38;5;28mprint\u001b[39m(\u001b[38;5;124m\"\u001b[39m\u001b[38;5;124mmatrix multiplication of matrix1 and matrix2:\u001b[39m\u001b[38;5;124m\"\u001b[39m)\n\u001b[0;32m     24\u001b[0m \u001b[38;5;28mprint\u001b[39m(matrix_mult(matrix1,matrix2))\n",
      "\u001b[1;31mTypeError\u001b[0m: 'str' object is not callable"
     ]
    }
   ],
   "source": [
    "def matrix_mult(matrix1,matrix2):\n",
    "    r1=len(matrix1)\n",
    "    c1=len(matrix1[0])\n",
    "    r2=len(matrix2)\n",
    "    c2=len(matrix2[0])\n",
    "    if c1!=r2:\n",
    "        raise error(\"different dimention:\")\n",
    "        result=[]\n",
    "    for i in range(r1):\n",
    "        new_row=[]\n",
    "        for j in range(c2):\n",
    "            sum=0\n",
    "            for k in range(c1):\n",
    "                sum+=matrix1[i][k]*matrix2[k][j]\n",
    "                new_row.append(sum)\n",
    "                result.append(new_row)\n",
    "    return result\n",
    "matrix1=[[1,2,3],[4,5,6],[5,4,3]]\n",
    "matrix2=[[3,2,1],[6,5,4],[4,3,2]]\n",
    "scalar=5\n",
    "print(\"scalar multiplication of matrix1 by\",scalar,\":\")\n",
    "print(\"scalar_mult\"(matrix,scalar))\n",
    "print(\"matrix multiplication of matrix1 and matrix2:\")\n",
    "print(matrix_mult(matrix1,matrix2))\n"
   ]
  },
  {
   "cell_type": "code",
   "execution_count": null,
   "id": "67e4102d",
   "metadata": {},
   "outputs": [],
   "source": []
  }
 ],
 "metadata": {
  "kernelspec": {
   "display_name": "Python 3 (ipykernel)",
   "language": "python",
   "name": "python3"
  },
  "language_info": {
   "codemirror_mode": {
    "name": "ipython",
    "version": 3
   },
   "file_extension": ".py",
   "mimetype": "text/x-python",
   "name": "python",
   "nbconvert_exporter": "python",
   "pygments_lexer": "ipython3",
   "version": "3.11.4"
  }
 },
 "nbformat": 4,
 "nbformat_minor": 5
}
