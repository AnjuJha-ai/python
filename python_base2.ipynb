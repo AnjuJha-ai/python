{
 "cells": [
  {
   "cell_type": "code",
   "execution_count": 1,
   "id": "718a0e9d",
   "metadata": {},
   "outputs": [],
   "source": [
    "file=open('new.txt','r')\n"
   ]
  },
  {
   "cell_type": "code",
   "execution_count": 4,
   "id": "1f7c3cf3",
   "metadata": {},
   "outputs": [
    {
     "name": "stdout",
     "output_type": "stream",
     "text": [
      "Hi how r u?\n",
      "\n",
      "its fun to learn\n",
      "\n",
      "we are human\n"
     ]
    }
   ],
   "source": [
    "for each in file:\n",
    "    print (each)"
   ]
  },
  {
   "cell_type": "code",
   "execution_count": 5,
   "id": "788b3f0d",
   "metadata": {},
   "outputs": [
    {
     "name": "stdout",
     "output_type": "stream",
     "text": [
      "its fun to learn\n",
      "we are human\n"
     ]
    }
   ],
   "source": [
    "file=open('new.txt','r')\n",
    "for each in file:\n",
    "    print(file.read())"
   ]
  },
  {
   "cell_type": "code",
   "execution_count": 1,
   "id": "3e193d91",
   "metadata": {},
   "outputs": [
    {
     "name": "stdout",
     "output_type": "stream",
     "text": [
      "Hi how r u?\n",
      "its fun to learn\n",
      "we are human\n"
     ]
    }
   ],
   "source": [
    "with open('new.txt') as file:\n",
    "    data=file.read()\n",
    "print(data)"
   ]
  },
  {
   "cell_type": "code",
   "execution_count": 2,
   "id": "9c6dad37",
   "metadata": {},
   "outputs": [
    {
     "name": "stdout",
     "output_type": "stream",
     "text": [
      "Hi how r \n"
     ]
    }
   ],
   "source": [
    "file=open('new.txt','r')\n",
    "print(file.read(9))"
   ]
  },
  {
   "cell_type": "code",
   "execution_count": 3,
   "id": "038eb146",
   "metadata": {},
   "outputs": [
    {
     "name": "stdout",
     "output_type": "stream",
     "text": [
      "['Hi how r u?\\n', 'its fun to learn\\n', 'we are human']\n"
     ]
    }
   ],
   "source": [
    "file=open('new.txt','r')\n",
    "print(file.readlines())\n"
   ]
  },
  {
   "cell_type": "code",
   "execution_count": 6,
   "id": "dae31800",
   "metadata": {},
   "outputs": [],
   "source": [
    "data=file.readlines()"
   ]
  },
  {
   "cell_type": "code",
   "execution_count": 8,
   "id": "351a8494",
   "metadata": {},
   "outputs": [],
   "source": [
    "for line in data:\n",
    "    word=line.split()\n",
    "    print (word)"
   ]
  },
  {
   "cell_type": "code",
   "execution_count": 17,
   "id": "15454f6b",
   "metadata": {},
   "outputs": [
    {
     "name": "stdout",
     "output_type": "stream",
     "text": [
      "write commandit is language\n"
     ]
    }
   ],
   "source": [
    "fle=open('new.txt',\"w+\")\n",
    "fle.write(\"write command\")\n",
    "fle.write('it is language')\n",
    "fle.seek(0,0)\n",
    "r=fle.read()\n",
    "print(r)"
   ]
  },
  {
   "cell_type": "code",
   "execution_count": 11,
   "id": "ecfbf980",
   "metadata": {},
   "outputs": [
    {
     "ename": "UnsupportedOperation",
     "evalue": "not writable",
     "output_type": "error",
     "traceback": [
      "\u001b[1;31m---------------------------------------------------------------------------\u001b[0m",
      "\u001b[1;31mUnsupportedOperation\u001b[0m                      Traceback (most recent call last)",
      "Cell \u001b[1;32mIn[11], line 2\u001b[0m\n\u001b[0;32m      1\u001b[0m fle\u001b[38;5;241m=\u001b[39m\u001b[38;5;28mopen\u001b[39m(\u001b[38;5;124m'\u001b[39m\u001b[38;5;124mnew.txt\u001b[39m\u001b[38;5;124m'\u001b[39m,\u001b[38;5;124m'\u001b[39m\u001b[38;5;124ma\u001b[39m\u001b[38;5;124m'\u001b[39m)\n\u001b[1;32m----> 2\u001b[0m file\u001b[38;5;241m.\u001b[39mwrite(\u001b[38;5;124m\"\u001b[39m\u001b[38;5;124mwrite command\u001b[39m\u001b[38;5;124m\"\u001b[39m)\n\u001b[0;32m      3\u001b[0m file\u001b[38;5;241m.\u001b[39mwrite(\u001b[38;5;124m'\u001b[39m\u001b[38;5;124mit is language\u001b[39m\u001b[38;5;124m'\u001b[39m)\n\u001b[0;32m      4\u001b[0m file\u001b[38;5;241m.\u001b[39mclose()\n",
      "\u001b[1;31mUnsupportedOperation\u001b[0m: not writable"
     ]
    }
   ],
   "source": [
    "fle=open('new.txt','a')\n",
    "file.write(\"write command\")\n",
    "file.write('it is language')\n",
    "file.close()"
   ]
  },
  {
   "cell_type": "code",
   "execution_count": 1,
   "id": "aa87cf9f",
   "metadata": {},
   "outputs": [
    {
     "name": "stdout",
     "output_type": "stream",
     "text": [
      "enter number:54\n",
      "reversed number:45\n"
     ]
    }
   ],
   "source": [
    "num=int(input(\"enter number:\"))\n",
    "reverse=0\n",
    "while num!=0:\n",
    "    digit=num%10\n",
    "    \n",
    "    reverse=reverse*10+digit\n",
    "    num//=10\n",
    "print(\"reversed number:\"+str(reverse))\n",
    "    "
   ]
  },
  {
   "cell_type": "code",
   "execution_count": 4,
   "id": "49229a20",
   "metadata": {},
   "outputs": [
    {
     "data": {
      "text/plain": [
       "1"
      ]
     },
     "execution_count": 4,
     "metadata": {},
     "output_type": "execute_result"
    }
   ],
   "source": [
    "def smallest_divisor(n):\n",
    "    for i in range(1,n+1):\n",
    "        if n%i==0:\n",
    "            return i\n",
    "        \n",
    "smallest_divisor(3)\n",
    "        "
   ]
  },
  {
   "cell_type": "code",
   "execution_count": null,
   "id": "b7a9c7e1",
   "metadata": {},
   "outputs": [],
   "source": []
  }
 ],
 "metadata": {
  "kernelspec": {
   "display_name": "Python 3 (ipykernel)",
   "language": "python",
   "name": "python3"
  },
  "language_info": {
   "codemirror_mode": {
    "name": "ipython",
    "version": 3
   },
   "file_extension": ".py",
   "mimetype": "text/x-python",
   "name": "python",
   "nbconvert_exporter": "python",
   "pygments_lexer": "ipython3",
   "version": "3.11.4"
  }
 },
 "nbformat": 4,
 "nbformat_minor": 5
}
