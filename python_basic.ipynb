{
 "cells": [
  {
   "cell_type": "code",
   "execution_count": 4,
   "id": "1b3dccfa",
   "metadata": {},
   "outputs": [
    {
     "name": "stdout",
     "output_type": "stream",
     "text": [
      "Enter the number24\n",
      "24 num is even\n"
     ]
    }
   ],
   "source": [
    "#Python Program to Check Whether a Given Number is Even or Odd using Recursion.\n",
    "def evenOdd(n):\n",
    "    if(n==0):\n",
    "        return True\n",
    "    elif(n==1):\n",
    "        return False\n",
    "    else:\n",
    "        return evenOdd(n-2)\n",
    "num=int(input(\"Enter the number\"))\n",
    "\n",
    "if(evenOdd(num)):\n",
    "    print(num,\"num is even\")\n",
    "else:\n",
    "    print(num,\"num is odd\")\n"
   ]
  },
  {
   "cell_type": "code",
   "execution_count": 7,
   "id": "08e08fb1",
   "metadata": {},
   "outputs": [
    {
     "name": "stdout",
     "output_type": "stream",
     "text": [
      "5 is positive\n",
      "0 is equal to zero\n",
      "-2 is negative\n"
     ]
    }
   ],
   "source": [
    "#2 Python Program to Check Whether a Number is Positive or Negative\n",
    "def check(n):\n",
    "    if(n>0):\n",
    "        print(n,\"is positive\")\n",
    "    elif(n<0):\n",
    "        print(n,\"is negative\")\n",
    "    else:\n",
    "        print(n,\"is equal to zero\")\n",
    "check(5)\n",
    "check(0)\n",
    "check(-2)"
   ]
  },
  {
   "cell_type": "code",
   "execution_count": 10,
   "id": "f8f333a0",
   "metadata": {},
   "outputs": [
    {
     "name": "stdout",
     "output_type": "stream",
     "text": [
      "Enter starting of range:0\n",
      "enter stop of range:20\n",
      "1 , 3 , 5 , 7 , 9 , 11 , 13 , 15 , 17 , 19 , "
     ]
    }
   ],
   "source": [
    "# 3 Python Program to Print All Odd Numbers in a Range\n",
    "start=int(input(\"Enter starting of range:\"))\n",
    "stop=int(input(\"enter stop of range:\"))\n",
    "for n in range(start,stop+1):\n",
    "    if n%2!=0:\n",
    "        print(n,end=\" , \")"
   ]
  },
  {
   "cell_type": "code",
   "execution_count": 14,
   "id": "6a65a534",
   "metadata": {},
   "outputs": [
    {
     "name": "stdout",
     "output_type": "stream",
     "text": [
      "Enter the number:123321\n",
      "123321 number is palindrome\n"
     ]
    }
   ],
   "source": [
    "#4 Python Program to Check if a Number is a Palindrome\n",
    "n=input(\"Enter the number:\")\n",
    "if n==n[::-1]:\n",
    "    print(n,\"number is palindrome\")\n",
    "else:\n",
    "    print(n,\"number not palindrome\")\n",
    "    "
   ]
  },
  {
   "cell_type": "code",
   "execution_count": null,
   "id": "2ee7153e",
   "metadata": {},
   "outputs": [],
   "source": []
  }
 ],
 "metadata": {
  "kernelspec": {
   "display_name": "Python 3 (ipykernel)",
   "language": "python",
   "name": "python3"
  },
  "language_info": {
   "codemirror_mode": {
    "name": "ipython",
    "version": 3
   },
   "file_extension": ".py",
   "mimetype": "text/x-python",
   "name": "python",
   "nbconvert_exporter": "python",
   "pygments_lexer": "ipython3",
   "version": "3.11.4"
  }
 },
 "nbformat": 4,
 "nbformat_minor": 5
}
