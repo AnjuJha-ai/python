{
 "cells": [
  {
   "cell_type": "code",
   "execution_count": 1,
   "id": "a6b8f25b",
   "metadata": {},
   "outputs": [
    {
     "name": "stdout",
     "output_type": "stream",
     "text": [
      "1505,1540,1575,1610,1645,1680,1715,1750,1785,1820,1855,1890,1925,1960,1995,2030,2065,2100,2135,2170,2205,2240,2275,2310,2345,2380,2415,2450,2485,2520,2555,2590,2625,2660,2695\n"
     ]
    }
   ],
   "source": [
    "#1 find number divisible by 7 and multiple of 5 between 1500 and 2700\n",
    "a=[]\n",
    "for i in range(1500,2701):\n",
    "    if(i%7==0 and i%5==0):\n",
    "        a.append(str(i))\n",
    "print(\",\".join(a))"
   ]
  },
  {
   "cell_type": "code",
   "execution_count": 6,
   "id": "cfe958ea",
   "metadata": {},
   "outputs": [
    {
     "name": "stdout",
     "output_type": "stream",
     "text": [
      "enter temperature in celsius:60\n",
      "temp in F: 140.0\n",
      "enter temperature in fahrenheit45\n",
      "7.222222222222222\n"
     ]
    }
   ],
   "source": [
    "#2 program to convert temperature to and from celsius,fahrenheit\n",
    "celsius=float(input(\"enter temperature in celsius:\"))\n",
    "fahrenheit=(celsius*1.8)+32\n",
    "print(\"temp in F:\",fahrenheit)\n",
    "              \n",
    "fahrenheit=float(input(\"enter temperature in fahrenheit\"))\n",
    "celsius=(fahrenheit-32)/1.8\n",
    "print(celsius)"
   ]
  },
  {
   "cell_type": "code",
   "execution_count": 16,
   "id": "8d67f453",
   "metadata": {},
   "outputs": [
    {
     "name": "stdout",
     "output_type": "stream",
     "text": [
      "enter your guess number:12\n",
      "try another number:4\n"
     ]
    }
   ],
   "source": [
    "#3 program to guess number betn 1 to 9\n",
    "a=int(input(\"enter your guess number:\"))\n",
    "if(a>9) or (a<1):\n",
    "    a=int(input(\"try another number:\"))\n",
    "else:\n",
    "    print(\"well guessed:\",a)\n",
    "    "
   ]
  },
  {
   "cell_type": "code",
   "execution_count": 17,
   "id": "fd38d580",
   "metadata": {},
   "outputs": [
    {
     "name": "stdout",
     "output_type": "stream",
     "text": [
      "enter string:hello everyone\n",
      "enoyreve olleh\n"
     ]
    }
   ],
   "source": [
    "#5program accept word from user and reverse it\n",
    "word=input(\"enter string:\")\n",
    "reverse=word[::-1]\n",
    "print(reverse)"
   ]
  },
  {
   "cell_type": "code",
   "execution_count": 9,
   "id": "dd4887f8",
   "metadata": {
    "scrolled": true
   },
   "outputs": [
    {
     "name": "stdout",
     "output_type": "stream",
     "text": [
      "1\n",
      "2\n",
      "1,3\n",
      "2,4\n",
      "1,3,5\n",
      "2,4,6\n",
      "1,3,5,7\n",
      "2,4,6,8\n",
      "1,3,5,7,9\n",
      "even number in list: 4\n",
      "odd number in list: 5\n"
     ]
    }
   ],
   "source": [
    "#6 count number of even and oddd from series of number\n",
    "series=[1,2,3,4,5,6,7,8,9]\n",
    "even=0\n",
    "a=[]\n",
    "odd=0\n",
    "b=[]\n",
    "for i in series:\n",
    "    if i%2==0:\n",
    "        even+=1\n",
    "        a.append(str(i))\n",
    "        print(\",\".join(a))\n",
    "    else:\n",
    "        odd+=1\n",
    "        b.append(str(i))\n",
    "        print(\",\".join(b))\n",
    "print(\"even number in list:\", even)\n",
    "print(\"odd number in list:\", odd)"
   ]
  },
  {
   "cell_type": "code",
   "execution_count": 10,
   "id": "4e99c80a",
   "metadata": {},
   "outputs": [
    {
     "name": "stdout",
     "output_type": "stream",
     "text": [
      "1452 datatype is: <class 'int'>\n",
      "11.53 datatype is: <class 'float'>\n",
      "(1+2j) datatype is: <class 'complex'>\n",
      "True datatype is: <class 'bool'>\n",
      "w3resource datatype is: <class 'str'>\n",
      "(0, -1) datatype is: <class 'tuple'>\n",
      "[5, 8] datatype is: <class 'list'>\n",
      "{'class': 'V', 'section': 'A'} datatype is: <class 'dict'>\n"
     ]
    }
   ],
   "source": [
    "#7 print each item and its corresponding type from list\n",
    "datalist = [1452, 11.53, 1+2j, True, 'w3resource', (0, -1), [5, 8], {\"class\": 'V', \"section\": 'A'}]\n",
    "for i in datalist:\n",
    "    print(i, \"datatype is:\", type(i))\n"
   ]
  },
  {
   "cell_type": "code",
   "execution_count": 8,
   "id": "c6384409",
   "metadata": {},
   "outputs": [
    {
     "name": "stdout",
     "output_type": "stream",
     "text": [
      "0 1 2 4 5 "
     ]
    }
   ],
   "source": [
    "#8  print all number from 0 to 6 except 3 and 6\n",
    "for i in range(6):\n",
    "    if(i==3 or i==6):\n",
    "        continue\n",
    "    print(i,end=\" \")\n"
   ]
  },
  {
   "cell_type": "code",
   "execution_count": 11,
   "id": "b58f8efe",
   "metadata": {},
   "outputs": [
    {
     "name": "stdout",
     "output_type": "stream",
     "text": [
      "0,1,1,2,3,5,8,13,21,34,None\n"
     ]
    }
   ],
   "source": [
    "#fibonacci number\n",
    "def fibonacci(n):\n",
    "    a,b=0,1\n",
    "    while(a<n):\n",
    "        print(a,end=\",\")\n",
    "        a,b=b,a+b\n",
    "print(fibonacci(50))"
   ]
  },
  {
   "cell_type": "code",
   "execution_count": 12,
   "id": "9379ca09",
   "metadata": {},
   "outputs": [
    {
     "name": "stdout",
     "output_type": "stream",
     "text": [
      "0,1,1,2,3,5,8,13,21,34,"
     ]
    }
   ],
   "source": [
    "a,b=0,1\n",
    "while(a<50):\n",
    "    print(a,end=\",\")\n",
    "    a,b=b,a+b"
   ]
  },
  {
   "cell_type": "code",
   "execution_count": 13,
   "id": "78d8f613",
   "metadata": {},
   "outputs": [
    {
     "name": "stdout",
     "output_type": "stream",
     "text": [
      "1\n",
      "2\n",
      "3 =fizz\n",
      "4\n",
      "5 =buzz\n",
      "6 =fizz\n",
      "7\n",
      "8\n",
      "9 =fizz\n",
      "10 =buzz\n",
      "11\n",
      "12 =fizz\n",
      "13\n",
      "14\n",
      "15 =fizzbuzz\n",
      "16\n",
      "17\n",
      "18 =fizz\n",
      "19\n",
      "20 =buzz\n",
      "21 =fizz\n",
      "22\n",
      "23\n",
      "24 =fizz\n",
      "25 =buzz\n",
      "26\n",
      "27 =fizz\n",
      "28\n",
      "29\n",
      "30 =fizzbuzz\n",
      "31\n",
      "32\n",
      "33 =fizz\n",
      "34\n",
      "35 =buzz\n",
      "36 =fizz\n",
      "37\n",
      "38\n",
      "39 =fizz\n",
      "40 =buzz\n",
      "41\n",
      "42 =fizz\n",
      "43\n",
      "44\n",
      "45 =fizzbuzz\n",
      "46\n",
      "47\n",
      "48 =fizz\n",
      "49\n",
      "50 =buzz\n"
     ]
    }
   ],
   "source": [
    "#iterate from 1 to 50 fizzbuzz if divisible by 3and5 and only with 3 fizz only with 5 buzz\n",
    "for i in range(1,51):\n",
    "    if i%3==0 and i%5==0:\n",
    "        print(i,\"=fizzbuzz\")\n",
    "    elif i%3==0:\n",
    "        print(i,\"=fizz\")\n",
    "    elif i%5==0:\n",
    "        print(i,\"=buzz\")\n",
    "    else:\n",
    "        print(i)\n",
    "        "
   ]
  },
  {
   "cell_type": "code",
   "execution_count": 29,
   "id": "809d3b2c",
   "metadata": {},
   "outputs": [
    {
     "name": "stdout",
     "output_type": "stream",
     "text": [
      "enter number of row:3\n",
      "enter number of col:4\n",
      "[[0, 0, 0], [0, 0, 0], [0, 0, 0], [0, 0, 0]]\n"
     ]
    }
   ],
   "source": [
    "#2 digit input and generate 2Darray\n",
    "row=int(input(\"enter number of row:\"))\n",
    "col=int(input(\"enter number of col:\"))\n",
    "Array=[[0 for r in range(row)]for c in range(col)]\n",
    "\n",
    "\n",
    "print(Array)"
   ]
  },
  {
   "cell_type": "code",
   "execution_count": 34,
   "id": "abeae216",
   "metadata": {},
   "outputs": [
    {
     "name": "stdout",
     "output_type": "stream",
     "text": [
      "AHBDsjdsdYYkFXEAAS\n",
      "\n",
      "ahbdsjdsdyykfxeaas\n"
     ]
    }
   ],
   "source": [
    "#sequence of line as input and print output in lowercase.\n",
    "line=[]\n",
    "while True:\n",
    "    l=input()\n",
    "    if l:\n",
    "       \n",
    "        line.append(l.lower())\n",
    "    else:\n",
    "        break;\n",
    "for l in line:\n",
    "    print(l)"
   ]
  },
  {
   "cell_type": "code",
   "execution_count": 10,
   "id": "f4c05c62",
   "metadata": {},
   "outputs": [
    {
     "name": "stdout",
     "output_type": "stream",
     "text": [
      "1000,1001,1010,1011,0101,0100,0111,0110\n",
      "1010,0101\n"
     ]
    }
   ],
   "source": [
    "list=[]\n",
    "N=[i for i in input().split(',')]\n",
    "for x in N:\n",
    "    i=int(x,2)\n",
    "    if not i%5:\n",
    "        list.append(x)\n",
    "print(\",\".join(list))"
   ]
  },
  {
   "cell_type": "code",
   "execution_count": 11,
   "id": "ef476e08",
   "metadata": {},
   "outputs": [
    {
     "name": "stdout",
     "output_type": "stream",
     "text": [
      "enter string:Hello 450 world is nice and fi9\n",
      "21 4\n"
     ]
    }
   ],
   "source": [
    "#accept string and calculate no. of letter and digit\n",
    "a=input(\"enter string:\")\n",
    "digit=alphabet=0\n",
    "for i in a:\n",
    "    if i.isdigit():\n",
    "        digit+=1\n",
    "    elif i.isalpha():\n",
    "        alphabet+=1\n",
    "    else:\n",
    "        pass\n",
    "print(alphabet,digit)"
   ]
  },
  {
   "cell_type": "code",
   "execution_count": 5,
   "id": "21cb61c9",
   "metadata": {},
   "outputs": [
    {
     "name": "stdout",
     "output_type": "stream",
     "text": [
      "200,202,204,206,208,220,222,224,226,228,240,242,244,246,248,260,262,264,266,268,280,282,284,286,288,400\n"
     ]
    }
   ],
   "source": [
    "# each digit of number is even including 100 and 400\n",
    "number=[]\n",
    "\n",
    "for i in range(100,401):\n",
    "    s=str(i)\n",
    "    if(int (s[0])%2==0 and int (s[1])%2==0 and int (s[2])%2==0):\n",
    "        number.append(s)\n",
    "print(\",\".join(number))"
   ]
  },
  {
   "cell_type": "code",
   "execution_count": 6,
   "id": "4d386b4e",
   "metadata": {},
   "outputs": [
    {
     "name": "stdout",
     "output_type": "stream",
     "text": [
      "enter dog age in human year:5\n",
      "dogs age as dogs year: 33\n"
     ]
    }
   ],
   "source": [
    "# calculate dogs age in dogs year\n",
    "human=int(input(\"enter dog age in human year:\"))\n",
    "\n",
    "if human<0:\n",
    "    print(\"age is positive\")\n",
    "    exit()\n",
    "elif human<=2:\n",
    "    dog=human*10.5\n",
    "else:\n",
    "    dog=21+(human-2)*4\n",
    "print(\"dogs age as dogs year:\",dog)"
   ]
  },
  {
   "cell_type": "code",
   "execution_count": 7,
   "id": "aba0da6e",
   "metadata": {},
   "outputs": [
    {
     "name": "stdout",
     "output_type": "stream",
     "text": [
      "enter an alphabet:v\n",
      "Alphabet is consonant v\n"
     ]
    }
   ],
   "source": [
    "# check wheather an alphabet is vowel or consonant\n",
    "alphabet=input(\"enter an alphabet:\")\n",
    "if alphabet in ('a','A','e','E','i','I','o','O','u','U'):\n",
    "    print(\"Alphabet is vowel\",alphabet)\n",
    "else:\n",
    "    print(\"Alphabet is consonant\",alphabet)"
   ]
  },
  {
   "cell_type": "code",
   "execution_count": 9,
   "id": "25e89f70",
   "metadata": {},
   "outputs": [
    {
     "name": "stdout",
     "output_type": "stream",
     "text": [
      "enter name of month:december\n",
      "no of days 31\n"
     ]
    }
   ],
   "source": [
    "# month name to no.of days\n",
    "month=input(\"enter name of month:\")\n",
    "\n",
    "\n",
    "if month=='february':\n",
    "    print('no. of days 28/29')\n",
    "elif month in ('april','june','september','november'):\n",
    "    print('no. of days 30')\n",
    "else:\n",
    "    print('no of days 31')"
   ]
  },
  {
   "cell_type": "code",
   "execution_count": 11,
   "id": "e292d90d",
   "metadata": {},
   "outputs": [
    {
     "name": "stdout",
     "output_type": "stream",
     "text": [
      "20\n",
      "11\n",
      "20\n"
     ]
    }
   ],
   "source": [
    "# sum of two given integer and if sum is between 15 to 20 return 20\n",
    "def sum(x,y):\n",
    "    sum=x+y\n",
    "    if sum>=15:\n",
    "        return 20\n",
    "    else:\n",
    "        return sum\n",
    "print(sum(8,8))\n",
    "print(sum(3,8))\n",
    "print(sum(7,8))\n",
    "        "
   ]
  },
  {
   "cell_type": "code",
   "execution_count": 12,
   "id": "4f7b9f4c",
   "metadata": {},
   "outputs": [
    {
     "ename": "SyntaxError",
     "evalue": "invalid syntax. Perhaps you forgot a comma? (70794518.py, line 9)",
     "output_type": "error",
     "traceback": [
      "\u001b[1;36m  Cell \u001b[1;32mIn[12], line 9\u001b[1;36m\u001b[0m\n\u001b[1;33m    elif (string[0] in '+-'and all string[i] in '0123456789' for i in range(1,len(string))):\u001b[0m\n\u001b[1;37m          ^\u001b[0m\n\u001b[1;31mSyntaxError\u001b[0m\u001b[1;31m:\u001b[0m invalid syntax. Perhaps you forgot a comma?\n"
     ]
    }
   ],
   "source": [
    "# string represent integer or not\n",
    "string=input(\"enter a string\")\n",
    "string=string.strip()\n",
    "if(len(string))<1:\n",
    "    print(\"insufficient string\")\n",
    "else:\n",
    "    if all( string[i] in '01234456789' for i in range (len(string))):\n",
    "        print('string is integer')\n",
    "    elif (string[0] in '+-'and all string[i] in '0123456789' for i in range(1,len(string))):\n",
    "        print('string is integer')\n",
    "    else:\n",
    "        print('string is non integer')\n",
    "        \n",
    "  "
   ]
  },
  {
   "cell_type": "code",
   "execution_count": 13,
   "id": "af7b5515",
   "metadata": {},
   "outputs": [
    {
     "name": "stdout",
     "output_type": "stream",
     "text": [
      "1 side of triangle:23\n",
      "2 side of triangle43\n",
      "3 side of triangle54\n",
      "triangle is scalene\n"
     ]
    }
   ],
   "source": [
    "#triangle isoceles,equilateral or scalene\n",
    "x=int(input('1 side of triangle:'))\n",
    "y=int(input('2 side of triangle'))\n",
    "z=int(input('3 side of triangle'))\n",
    "if(x==y==z):\n",
    "    print('triangle is equilateral')\n",
    "elif (x==y or y==z or z==x):\n",
    "    print('triangle is isoceles')\n",
    "else:\n",
    "    print('triangle is scalene')"
   ]
  },
  {
   "cell_type": "code",
   "execution_count": 15,
   "id": "d4db8c6e",
   "metadata": {},
   "outputs": [
    {
     "name": "stdout",
     "output_type": "stream",
     "text": [
      "enter value1:61\n",
      "enter value2:34\n",
      "enter value3:72\n",
      "61.0\n"
     ]
    }
   ],
   "source": [
    "# median\n",
    "x=float(input('enter value1:'))\n",
    "y=float(input('enter value2:'))\n",
    "z=float(input('enter value3:'))\n",
    "if x>y:\n",
    "    if x<z:\n",
    "        median=x\n",
    "    elif y>z:\n",
    "        median=y\n",
    "    else:\n",
    "        medianz\n",
    "else:\n",
    "    if x>z:\n",
    "        median=x\n",
    "    elif y<z:\n",
    "        median=y\n",
    "    else:\n",
    "        median=z\n",
    "print(median)\n",
    " "
   ]
  },
  {
   "cell_type": "code",
   "execution_count": 20,
   "id": "23c2bd3e",
   "metadata": {
    "scrolled": true
   },
   "outputs": [
    {
     "name": "stdout",
     "output_type": "stream",
     "text": [
      "enter year2023\n",
      "enter month number12\n",
      "enter date31\n",
      "next date is 2024-1-1\n"
     ]
    }
   ],
   "source": [
    "# next day of given date\n",
    "year=int(input('enter year'))\n",
    "month=int(input('enter month number'))\n",
    "if month in (4,6,9,11):\n",
    "    monthday=30\n",
    "elif month==2:\n",
    "    if year%4==0:\n",
    "        monthday=29\n",
    "    else:\n",
    "        monthday=28\n",
    "else:\n",
    "    monthday=31\n",
    "    \n",
    "date=int(input('enter date'))\n",
    "if date<monthday:\n",
    "    date+=1\n",
    "else:\n",
    "    date=1\n",
    "    if month==12:\n",
    "        month=1\n",
    "        year+=1\n",
    "    else:\n",
    "        month+=1\n",
    "print('next date is %d-%d-%d' %(year,month,date))"
   ]
  },
  {
   "cell_type": "code",
   "execution_count": 31,
   "id": "510e9974",
   "metadata": {},
   "outputs": [
    {
     "name": "stdout",
     "output_type": "stream",
     "text": [
      "sum= 45 and average= 5.0\n"
     ]
    }
   ],
   "source": [
    "#sum and average of integer\n",
    "l=[1,3,5,7,9,2,4,6,8]\n",
    "count=0\n",
    "for i in l:\n",
    "    count+=i\n",
    "    aug=count/len(l)\n",
    "print('sum=',count,'and average=',aug)"
   ]
  },
  {
   "cell_type": "code",
   "execution_count": 33,
   "id": "737b56ae",
   "metadata": {},
   "outputs": [
    {
     "name": "stdout",
     "output_type": "stream",
     "text": [
      "enter the number:15\n",
      "15 x 1 = 15\n",
      "15 x 2 = 30\n",
      "15 x 3 = 45\n",
      "15 x 4 = 60\n",
      "15 x 5 = 75\n",
      "15 x 6 = 90\n",
      "15 x 7 = 105\n",
      "15 x 8 = 120\n",
      "15 x 9 = 135\n",
      "15 x 10 = 150\n"
     ]
    }
   ],
   "source": [
    "# multiplication table\n",
    "a=int(input('enter the number:'))\n",
    "for i in range(1,11):\n",
    "    print(a,'x',i,'=',a*i)"
   ]
  },
  {
   "cell_type": "code",
   "execution_count": 34,
   "id": "454bcf49",
   "metadata": {},
   "outputs": [
    {
     "name": "stdout",
     "output_type": "stream",
     "text": [
      "\n",
      "1\n",
      "22\n",
      "333\n",
      "4444\n",
      "55555\n",
      "666666\n",
      "7777777\n",
      "88888888\n",
      "999999999\n"
     ]
    }
   ],
   "source": [
    "#construct the pattern using nested loop\n",
    "for i in range(10):\n",
    "    print(i*str(i))"
   ]
  },
  {
   "cell_type": "code",
   "execution_count": null,
   "id": "452b5f16",
   "metadata": {},
   "outputs": [],
   "source": [
    "#odd even using recursion\n"
   ]
  }
 ],
 "metadata": {
  "kernelspec": {
   "display_name": "Python 3 (ipykernel)",
   "language": "python",
   "name": "python3"
  },
  "language_info": {
   "codemirror_mode": {
    "name": "ipython",
    "version": 3
   },
   "file_extension": ".py",
   "mimetype": "text/x-python",
   "name": "python",
   "nbconvert_exporter": "python",
   "pygments_lexer": "ipython3",
   "version": "3.11.4"
  }
 },
 "nbformat": 4,
 "nbformat_minor": 5
}
