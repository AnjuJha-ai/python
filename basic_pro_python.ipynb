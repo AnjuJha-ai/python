{
 "cells": [
  {
   "cell_type": "code",
   "execution_count": 1,
   "id": "6f38af81",
   "metadata": {},
   "outputs": [
    {
     "name": "stdout",
     "output_type": "stream",
     "text": [
      "hello world\n"
     ]
    }
   ],
   "source": [
    "print(\"hello world\")"
   ]
  },
  {
   "cell_type": "code",
   "execution_count": 2,
   "id": "be9d75b1",
   "metadata": {},
   "outputs": [
    {
     "name": "stdout",
     "output_type": "stream",
     "text": [
      "tsy\n"
     ]
    }
   ],
   "source": [
    "# create a string made of the first, middle and last character\n",
    "a=\"today is monday\"\n",
    "x=a[0]+a[len(a)//2]+a[-1]\n",
    "print(x)\n"
   ]
  },
  {
   "cell_type": "code",
   "execution_count": 3,
   "id": "324cc7e6",
   "metadata": {},
   "outputs": [
    {
     "name": "stdout",
     "output_type": "stream",
     "text": [
      " is \n"
     ]
    }
   ],
   "source": [
    "# create a string made of the middle three character\n",
    "x=a[5:-6]\n",
    "print(x)"
   ]
  },
  {
   "cell_type": "code",
   "execution_count": 4,
   "id": "2651f73a",
   "metadata": {},
   "outputs": [
    {
     "name": "stdout",
     "output_type": "stream",
     "text": [
      "today ibeautifuls monday\n"
     ]
    }
   ],
   "source": [
    "# append new string in the middle of a given string\n",
    "b=len(a)//2\n",
    "c=\"beautiful\"\n",
    "x=a[:b]+c+a[b:]\n",
    "print(x)"
   ]
  },
  {
   "cell_type": "code",
   "execution_count": 10,
   "id": "1410adbb",
   "metadata": {},
   "outputs": [
    {
     "name": "stdout",
     "output_type": "stream",
     "text": [
      "AG\n",
      "7\n",
      "dt\n",
      "AGdt\n"
     ]
    }
   ],
   "source": [
    "#create a new string made of the first, middle and last characters of each input string\n",
    "a=\"Ahmedabad\"\n",
    "b=\"Gujarat\"\n",
    "c=a[0]+b[0]\n",
    "print(c)\n",
    "#d=a(len(a)//2)+b(len(b)//2)\n",
    "print(d)\n",
    "e=a[-1]+b[-1]\n",
    "print(e)\n",
    "y=c+e\n",
    "print(y)\n"
   ]
  },
  {
   "cell_type": "code",
   "execution_count": 16,
   "id": "e1f069a3",
   "metadata": {},
   "outputs": [
    {
     "name": "stdout",
     "output_type": "stream",
     "text": [
      "JuNglE\n",
      "J\n",
      "uJ\n",
      "uJN\n",
      "ugJN\n",
      "uglJN\n",
      "uglJNE\n"
     ]
    }
   ],
   "source": [
    "#arrange string characters such that lowercase letters should come first\n",
    "a=\"JuNglE\"\n",
    "print(a)\n",
    "l=[]\n",
    "u=[]\n",
    "for x in a:\n",
    "    if x.islower():\n",
    "        l.append(x)\n",
    "    else:\n",
    "        u.append(x)\n",
    "    new_a=''.join(l+u)\n",
    "    print(new_a)"
   ]
  },
  {
   "cell_type": "code",
   "execution_count": 5,
   "id": "f11cb1db",
   "metadata": {},
   "outputs": [
    {
     "name": "stdout",
     "output_type": "stream",
     "text": [
      "1\n",
      "1\n",
      "1\n"
     ]
    }
   ],
   "source": [
    "#count all letters,digit and special symbols from a given string\n",
    "x=\"H2o%star\"\n",
    "a=digit=0\n",
    "b=letter=0\n",
    "c=specialch=0\n",
    "for t in (x):\n",
    "    if t.isdigit():\n",
    "        a=digit+1\n",
    "    elif t.isalpha():\n",
    "        b=letter+1\n",
    "    else:\n",
    "        c=specialch+1\n",
    "print(a)\n",
    "print(b)\n",
    "print(c)"
   ]
  },
  {
   "cell_type": "code",
   "execution_count": null,
   "id": "cabaf023",
   "metadata": {},
   "outputs": [],
   "source": []
  }
 ],
 "metadata": {
  "kernelspec": {
   "display_name": "Python 3 (ipykernel)",
   "language": "python",
   "name": "python3"
  },
  "language_info": {
   "codemirror_mode": {
    "name": "ipython",
    "version": 3
   },
   "file_extension": ".py",
   "mimetype": "text/x-python",
   "name": "python",
   "nbconvert_exporter": "python",
   "pygments_lexer": "ipython3",
   "version": "3.11.4"
  }
 },
 "nbformat": 4,
 "nbformat_minor": 5
}
