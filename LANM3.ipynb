{
 "cells": [
  {
   "cell_type": "code",
   "execution_count": 2,
   "id": "4658b561",
   "metadata": {},
   "outputs": [
    {
     "name": "stdout",
     "output_type": "stream",
     "text": [
      "enter 1st point:2\n",
      "enter 2nd point:3\n",
      "enter epsilon value:0.01\n",
      "tabular form\n",
      "\t\ta\t\tf(a)\t\tb\t\tf(b)\t\tc\t\tf(c)\tdiff\n",
      "------------------------------------------------\n",
      "\t2.00000 \t-9.00000 \t3.00000 \t1.00000 \t2.50000 \t-5.87500 \t2.50000\n",
      "\t2.50000 \t-5.87500 \t3.00000 \t1.00000 \t2.75000 \t-2.95312 \t0.25000\n",
      "\t2.75000 \t-2.95312 \t3.00000 \t1.00000 \t2.87500 \t-1.11133 \t0.12500\n",
      "\t2.87500 \t-1.11133 \t3.00000 \t1.00000 \t2.93750 \t-0.09009 \t0.06250\n",
      "\t2.93750 \t-0.09009 \t3.00000 \t1.00000 \t2.96875 \t0.44626 \t0.03125\n",
      "\t2.93750 \t-0.09009 \t2.96875 \t0.44626 \t2.95312 \t0.17592 \t0.01562\n",
      "\t2.93750 \t-0.09009 \t2.95312 \t0.17592 \t2.94531 \t0.04238 \t0.00781\n",
      "root between point:2.94531\n"
     ]
    }
   ],
   "source": [
    "import math\n",
    "def f(x):\n",
    "    a=x*x*x-9*x+1\n",
    "    return a\n",
    "a=float(input(\"enter 1st point:\"))\n",
    "b=float(input(\"enter 2nd point:\"))\n",
    "if f(a)*f(b)>0:\n",
    "    print(\"roots doesnot exist\")\n",
    "else:\n",
    "    E=float(input(\"enter epsilon value:\"))\n",
    "    c=0\n",
    "    print(\"tabular form\")\n",
    "    print(\"\\t\\ta\\t\\tf(a)\\t\\tb\\t\\tf(b)\\t\\tc\\t\\tf(c)\\tdiff\")\n",
    "    print(\"------------------------------------------------\")\n",
    "    diff=0\n",
    "    e=0\n",
    "    while True:\n",
    "        c=(a+b)/2\n",
    "        diff=abs(c-e)\n",
    "        print(\"\\t{:.5f}\".format(a),\"\\t{:.5f}\".format(f(a)),\"\\t{:.5f}\".format(b),\"\\t{:.5f}\".format(f(b)),\"\\t{:.5f}\".format(c),\"\\t{:.5f}\".format(f(c)),\"\\t{:.5f}\".format(diff))\n",
    "        if f(a)*f(c)<0:\n",
    "            b=c\n",
    "        else:\n",
    "            a=c\n",
    "        if diff<E:\n",
    "            break;\n",
    "        else:\n",
    "            e=c\n",
    "print(\"root between point:{:.5f}\".format(c))\n",
    "            "
   ]
  },
  {
   "cell_type": "code",
   "execution_count": 3,
   "id": "e6be3885",
   "metadata": {},
   "outputs": [
    {
     "name": "stdout",
     "output_type": "stream",
     "text": [
      "enter 1st point:2\n",
      "enter 2nd point:3\n",
      "enter epsilon value:0.01\n",
      "tabular form\n",
      "\t\ta\t\tf(a)\t\tb\t\tf(b)\t\tc\t\tf(c)\tdiff\n",
      "------------------------------------------------\n",
      "\t2.00000 \t-9.00000 \t3.00000 \t1.00000 \t2.90000 \t-0.71100 \t2.90000\n",
      "\t2.90000 \t-0.71100 \t3.00000 \t1.00000 \t2.94155 \t-0.02147 \t0.04155\n",
      "\t2.94155 \t-0.02147 \t3.00000 \t1.00000 \t2.94278 \t-0.00062 \t0.00123\n",
      "root between point:2.94278\n"
     ]
    }
   ],
   "source": [
    "import math\n",
    "def f(x):\n",
    "    a=x*x*x-9*x+1\n",
    "    return a\n",
    "a=float(input(\"enter 1st point:\"))\n",
    "b=float(input(\"enter 2nd point:\"))\n",
    "if f(a)*f(b)>0:\n",
    "    print(\"roots doesnot exist\")\n",
    "else:\n",
    "    E=float(input(\"enter epsilon value:\"))\n",
    "    c=0\n",
    "    print(\"tabular form\")\n",
    "    print(\"\\t\\ta\\t\\tf(a)\\t\\tb\\t\\tf(b)\\t\\tc\\t\\tf(c)\\tdiff\")\n",
    "    print(\"------------------------------------------------\")\n",
    "    diff=0\n",
    "    e=0\n",
    "    while True:\n",
    "        c=(a*f(b)-b*f(a))/(f(b)-f(a))\n",
    "        diff=abs(c-e)\n",
    "        print(\"\\t{:.5f}\".format(a),\"\\t{:.5f}\".format(f(a)),\"\\t{:.5f}\".format(b),\"\\t{:.5f}\".format(f(b)),\"\\t{:.5f}\".format(c),\"\\t{:.5f}\".format(f(c)),\"\\t{:.5f}\".format(diff))\n",
    "        if f(a)*f(c)<0:\n",
    "            b=c\n",
    "        else:\n",
    "            a=c\n",
    "        if diff<E:\n",
    "            break;\n",
    "        else:\n",
    "            e=c\n",
    "print(\"root between point:{:.5f}\".format(c))\n",
    "            "
   ]
  },
  {
   "cell_type": "code",
   "execution_count": 4,
   "id": "90a46577",
   "metadata": {},
   "outputs": [
    {
     "name": "stdout",
     "output_type": "stream",
     "text": [
      "enter 1st point:2\n",
      "enter 2nd point:3\n",
      "enter epsilon value:0.01\n",
      "tabular form\n",
      "\t\ta\t\tf(a)\t\tb\t\tf(b)\t\tc\t\tf(c)\tdiff\n",
      "------------------------------------------------\n",
      "\t2.00000 \t-9.00000 \t3.00000 \t1.00000 \t2.90000 \t-0.71100 \t2.90000\n",
      "\t3.00000 \t1.00000 \t2.90000 \t-0.71100 \t2.94155 \t-0.02147 \t0.04155\n",
      "\t2.90000 \t-0.71100 \t2.94155 \t-0.02147 \t2.94285 \t0.00049 \t0.00129\n",
      "root between point:2.94285\n"
     ]
    }
   ],
   "source": [
    "import math\n",
    "def f(x):\n",
    "    a=x*x*x-9*x+1\n",
    "    return a\n",
    "a=float(input(\"enter 1st point:\"))\n",
    "b=float(input(\"enter 2nd point:\"))\n",
    "if f(a)*f(b)>0:\n",
    "    print(\"roots doesnot exist\")\n",
    "else:\n",
    "    E=float(input(\"enter epsilon value:\"))\n",
    "    c=0\n",
    "    print(\"tabular form\")\n",
    "    print(\"\\t\\ta\\t\\tf(a)\\t\\tb\\t\\tf(b)\\t\\tc\\t\\tf(c)\\tdiff\")\n",
    "    print(\"------------------------------------------------\")\n",
    "    diff=0\n",
    "    e=0\n",
    "    while True:\n",
    "        c=(a*f(b)-b*f(a))/(f(b)-f(a))\n",
    "        diff=abs(c-e)\n",
    "        print(\"\\t{:.5f}\".format(a),\"\\t{:.5f}\".format(f(a)),\"\\t{:.5f}\".format(b),\"\\t{:.5f}\".format(f(b)),\"\\t{:.5f}\".format(c),\"\\t{:.5f}\".format(f(c)),\"\\t{:.5f}\".format(diff))\n",
    "        a=b\n",
    "        b=c\n",
    "        if diff<E:\n",
    "            break;\n",
    "        else:\n",
    "            e=c\n",
    "print(\"root between point:{:.5f}\".format(c))\n",
    "            "
   ]
  },
  {
   "cell_type": "code",
   "execution_count": 11,
   "id": "24b8b32d",
   "metadata": {},
   "outputs": [
    {
     "name": "stdout",
     "output_type": "stream",
     "text": [
      "function:x*x*x-9*x+1 \n",
      "derivative:3*x*x-9\n",
      "enter the value:2.5\n",
      "enter epsilon value:0.01\n",
      "tabular form\n",
      "\t\tx1\t\tf(x1)\t\tf'(x1)\t\tx2\t\tdiff\n",
      "--------------------------------------------------------------------------------------------\n",
      "\t2.50000 \t-5.87500 \t9.75000 \t3.10256 \t0.60256\n",
      "\t3.10256 \t2.94191 \t19.87771 \t2.95456 \t0.14800\n",
      "\t2.95456 \t0.20063 \t17.18834 \t2.94289 \t0.01167\n",
      "\t2.94289 \t0.00121 \t16.98182 \t2.94282 \t0.00007\n",
      "roots near point is:\t2.94282\n"
     ]
    }
   ],
   "source": [
    "import math\n",
    "def f(x):\n",
    "    a=x*x*x-9*x+1\n",
    "    return a\n",
    "def df(x):\n",
    "    a=3*x*x-9\n",
    "    return a\n",
    "print(\"function:x*x*x-9*x+1 \")\n",
    "print(\"derivative:3*x*x-9\")\n",
    "x1=float(input(\"enter the value:\"))\n",
    "E=float(input(\"enter epsilon value:\"))\n",
    "print(\"tabular form\")\n",
    "print(\"\\t\\tx1\\t\\tf(x1)\\t\\tf'(x1)\\t\\tx2\\t\\tdiff\")\n",
    "print(\"--------------------------------------------------------------------------------------------\")\n",
    "diff=E+1\n",
    "while True:\n",
    "    if df(x1)==0:\n",
    "        print(\"derivative is zero\")\n",
    "        break;\n",
    "    else:\n",
    "        x2=x1-(f(x1)/df(x1))\n",
    "        diff=abs(x2-x1)\n",
    "        print(\"\\t{:.5f}\".format(x1),\"\\t{:.5f}\".format(f(x1)),\"\\t{:.5f}\".format(df(x1)),\"\\t{:.5f}\".format(x2),\"\\t{:.5f}\".format(diff))\n",
    "        x1=x2\n",
    "        if diff<E:\n",
    "            print(\"roots near point is:\\t{:.5f}\".format(x2))\n",
    "            break;\n",
    "        else:\n",
    "            continue;"
   ]
  },
  {
   "cell_type": "code",
   "execution_count": 12,
   "id": "229cba70",
   "metadata": {},
   "outputs": [
    {
     "name": "stdout",
     "output_type": "stream",
     "text": [
      "fn :  x**3 - 5*x + 1\n",
      "derivative :  3*x**2 - 5\n",
      "Enter your point : 2.5\n",
      "Enter your epsloan : 0.01\n",
      "TABLUAR FORM : \n",
      "\t x1\t\t f(x1)\t\t f'(x1)\t\t x2\t\t difference\n",
      "*********************************************************************************************************************\n",
      "*********************************************************************************************************************\n",
      "\t2.50000 \t4.12500 \t13.75000 \t2.20000 \t0.30000\n",
      "\t2.20000 \t0.64800 \t9.52000 \t2.13193 \t0.06807\n",
      "\t2.13193 \t0.03026 \t8.63541 \t2.12843 \t0.00350\n",
      "Root between given interval is : 2.12843\n"
     ]
    }
   ],
   "source": [
    "import math\n",
    "def f(x):\n",
    "    a=x*x*x -5*x + 1\n",
    "    return(a)\n",
    "def df(x):\n",
    "    a=3*x**2 -5\n",
    "    return(a)\n",
    "print(\"fn :  x**3 - 5*x + 1\")\n",
    "print(\"derivative :  3*x**2 - 5\")\n",
    "x1=float(input(\"Enter your point : \"))\n",
    "E=float(input(\"Enter your epsloan : \"))\n",
    "print(\"TABLUAR FORM : \")\n",
    "print(\"\\t x1\\t\\t f(x1)\\t\\t f'(x1)\\t\\t x2\\t\\t difference\")\n",
    "print(\"*********************************************************************************************************************\")\n",
    "print(\"*********************************************************************************************************************\")\n",
    "diff=E+1\n",
    "while(True):\n",
    "    if df(x1)==0:\n",
    "        print(\"Derivative is zero.\")\n",
    "        break\n",
    "    else:    \n",
    "        x2=x1-f(x1)/df(x1)\n",
    "        diff = abs(x2-x1)\n",
    "        print(\"\\t{:.5f}\".format(x1),\"\\t{:.5f}\".format(f(x1)),\"\\t{:.5f}\".format(df(x1)),\"\\t{:.5f}\".format(x2),\"\\t{:.5f}\".format(diff))\n",
    "        x1=x2\n",
    "        if diff<E:\n",
    "            print(\"Root between given interval is : {:.5f}\".format(x2))\n",
    "            break\n",
    "        else:    \n",
    "            continue\n"
   ]
  },
  {
   "cell_type": "code",
   "execution_count": null,
   "id": "2baac76d",
   "metadata": {},
   "outputs": [],
   "source": []
  }
 ],
 "metadata": {
  "kernelspec": {
   "display_name": "Python 3 (ipykernel)",
   "language": "python",
   "name": "python3"
  },
  "language_info": {
   "codemirror_mode": {
    "name": "ipython",
    "version": 3
   },
   "file_extension": ".py",
   "mimetype": "text/x-python",
   "name": "python",
   "nbconvert_exporter": "python",
   "pygments_lexer": "ipython3",
   "version": "3.11.4"
  }
 },
 "nbformat": 4,
 "nbformat_minor": 5
}
