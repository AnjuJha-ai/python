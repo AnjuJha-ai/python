{
 "cells": [
  {
   "cell_type": "code",
   "execution_count": 1,
   "id": "698e4460",
   "metadata": {},
   "outputs": [
    {
     "name": "stdout",
     "output_type": "stream",
     "text": [
      "enter dog's age in human years: 10\n",
      "The dog's age as dog's years is 53\n"
     ]
    }
   ],
   "source": [
    "#program 31: . Write a Python program to calculate a dog's age in dog's years. \n",
    "\n",
    "human_A = int(input(\"enter dog's age in human years: \"))\n",
    "\n",
    "if  human_A< 0:\n",
    "    print(\"Age is positive number.\")\n",
    "    exit()\n",
    "elif human_A <= 2:\n",
    "    dog_A = human_A * 10.5\n",
    "else:\n",
    "    dog_A= 21 + (human_A - 2)*4\n",
    "\n",
    "print(\"The dog's age as dog's years is\", dog_A)\n"
   ]
  },
  {
   "cell_type": "code",
   "execution_count": 8,
   "id": "dca1f12f",
   "metadata": {},
   "outputs": [
    {
     "name": "stdout",
     "output_type": "stream",
     "text": [
      "Enter the letter: K\n",
      "K is a consonant.\n"
     ]
    }
   ],
   "source": [
    "# program 32: Write a Python program to check whether an alphabet is a vowel or consonant.\n",
    "\n",
    "alphabet = input(\"Enter the letter: \")\n",
    "\n",
    "if alphabet in ('a', 'e', 'i', 'o', 'u'):\n",
    "    print(\"%s is a vowel.\" % alphabet)\n",
    "elif alphabet == '_':\n",
    "    print(\"  _for vowel,_ consonant.\")\n",
    "else:\n",
    "    print(\"%s is a consonant.\" % alphabet) \n",
    "    "
   ]
  },
  {
   "cell_type": "code",
   "execution_count": 9,
   "id": "3ce1230a",
   "metadata": {},
   "outputs": [
    {
     "name": "stdout",
     "output_type": "stream",
     "text": [
      "Months: January, February, March, April, May, June, July, August, September, October, November, December\n",
      "Enter Month Name: march\n",
      "No. of days: 31 day\n"
     ]
    }
   ],
   "source": [
    "# program 33: Write a Python program to convert month name to a number of days.\n",
    "\n",
    "print(\"Months: January, February, March, April, May, June, July, August, September, October, November, December\")\n",
    "month_name = input(\"Enter Month Name: \")\n",
    "\n",
    "if month_name == \"February\":\n",
    "    print(\"No. of days: 28/29 days\")\n",
    "elif month_name in (\"April\", \"June\", \"September\", \"November\"):\n",
    "    print(\"No. of days: 30 days\")\n",
    "else:\n",
    "    print(\"No. of days: 31 day\")\n"
   ]
  },
  {
   "cell_type": "code",
   "execution_count": 12,
   "id": "53cc6f06",
   "metadata": {},
   "outputs": [
    {
     "name": "stdout",
     "output_type": "stream",
     "text": [
      "20\n",
      "13\n",
      "21\n"
     ]
    }
   ],
   "source": [
    "# program 34: Write a Python program to sum of two given integers. However, if the sum is between 15 to 20 it will return 20.\n",
    "\n",
    "def sum(x, y):\n",
    "    sum = x + y\n",
    "    if sum in range(15, 20):\n",
    "        return 20\n",
    "    else:\n",
    "        return sum\n",
    "\n",
    "print(sum(8, 8))\n",
    "print(sum(8, 5))\n",
    "print(sum(10, 11))"
   ]
  },
  {
   "cell_type": "code",
   "execution_count": 22,
   "id": "2503ffa7",
   "metadata": {},
   "outputs": [
    {
     "name": "stdout",
     "output_type": "stream",
     "text": [
      "Enter a string: goodluck\n",
      "data is not an integer.\n"
     ]
    }
   ],
   "source": [
    "# program 35: Write a Python program to check a string represent an integer or not.\n",
    "\n",
    "data = input(\"Enter a string: \")\n",
    "data = data.strip()\n",
    "if len(data) < 1:\n",
    "    print(\"insufficient data\")\n",
    "else:\n",
    "    if all(data[i] in \"0123456789\" for i in range(len(data))):\n",
    "        print(\"data is integer.\")\n",
    "    elif (data[0] in \"+-\") and all(data[i] in \"0123456789\" for i in range(1,len(data))):\n",
    "        print(\"data is integer.\")\n",
    "    else:\n",
    "        print(\"data is not an integer.\") \n"
   ]
  },
  {
   "cell_type": "code",
   "execution_count": 26,
   "id": "adc035a2",
   "metadata": {},
   "outputs": [
    {
     "name": "stdout",
     "output_type": "stream",
     "text": [
      "enter sides of triangle: \n",
      "x: 5\n",
      "y: 6\n",
      "z: 7\n",
      "it's a Scalene triangle\n"
     ]
    }
   ],
   "source": [
    "# program 36: Write a Python program to check a triangle is equilateral, isosceles or scalene.\n",
    "\n",
    "print(\"enter sides of triangle: \")\n",
    "x = int(input(\"x: \"))\n",
    "y = int(input(\"y: \"))\n",
    "z = int(input(\"z: \"))\n",
    "\n",
    "if x == y == z:\n",
    "    print(\" It's an Equilateral triangle\")\n",
    "elif x==y or y==z or z==x:\n",
    "    print(\"It's an isosceles triangle\")\n",
    "else:\n",
    "    print(\"it's a Scalene triangle\")\n"
   ]
  },
  {
   "cell_type": "code",
   "execution_count": 32,
   "id": "134b89c8",
   "metadata": {},
   "outputs": [
    {
     "name": "stdout",
     "output_type": "stream",
     "text": [
      "enter name of month: february\n",
      "Enter day: 20\n",
      "autumn\n"
     ]
    }
   ],
   "source": [
    "# program 37: Write a Python program that reads two integers representing a month and day and prints the season for that month and day.\n",
    "\n",
    "month = input(\"enter name of month: \")\n",
    "day = int(input(\"Enter day: \"))\n",
    "if month in ('January', 'February', 'March'):\n",
    "    print(\"winter\")\n",
    "elif month in ('April', 'May', 'June'):\n",
    "    print(\"spring\")\n",
    "elif month in ('July', 'August', 'September'):\n",
    "    print(\"summer\")\n",
    "else:\n",
    "    print(\"autumn\")\n",
    "\n",
    "if (month == 'March') and (day > 19):\n",
    "    print(\"spring\")\n",
    "elif (month == 'June') and (day > 20):\n",
    "    print(\"summer\")\n",
    "elif (month == 'September') and (day > 21):\n",
    "    print(\"autumn\")\n",
    "elif (month == 'December') and (day > 20):\n",
    "    print(\"winter\")"
   ]
  },
  {
   "cell_type": "code",
   "execution_count": 30,
   "id": "cc8772fe",
   "metadata": {},
   "outputs": [
    {
     "name": "stdout",
     "output_type": "stream",
     "text": [
      "200,202,204,206,208,220,222,224,226,228,240,242,244,246,248,260,262,264,266,268,280,282,284,286,288,400\n"
     ]
    }
   ],
   "source": [
    "# program 16: Write a Python program to find numbers between 100 and 400 (both included) where each digit of a number is an even number. The numbers obtained should be printed in a comma-separated sequence\n",
    "\n",
    "number = []\n",
    "for i in range(100, 401):\n",
    "    s = str(i)\n",
    "    if (int(s[0])%2==0) and (int(s[1])%2==0) and (int(s[2])%2==0):\n",
    "        number.append(s)\n",
    "print( \",\".join(number))"
   ]
  },
  {
   "cell_type": "code",
   "execution_count": null,
   "id": "a53b6bec",
   "metadata": {},
   "outputs": [],
   "source": [
    "# program 15: Write a Python program to check the validity of password input by users.\n",
    "\n"
   ]
  },
  {
   "cell_type": "code",
   "execution_count": null,
   "id": "86143d9e",
   "metadata": {},
   "outputs": [],
   "source": [
    "# program 38: Write a Python program to display astrological sign for given date of birth\n",
    "\n"
   ]
  },
  {
   "cell_type": "code",
   "execution_count": 37,
   "id": "811efd84",
   "metadata": {},
   "outputs": [
    {
     "name": "stdout",
     "output_type": "stream",
     "text": [
      "Enter 1st value:65\n",
      "Enter 2nd value:54\n",
      "enter 3rd value:98\n",
      "the median is: 65.0\n"
     ]
    }
   ],
   "source": [
    "# program 40:  Write a Python program to find the median of three values. \n",
    "\n",
    "x = float(input(\"Enter 1st value:\"))\n",
    "y = float(input(\"Enter 2nd value:\"))\n",
    "z = float(input(\"enter 3rd value:\"))\n",
    "if x > y:\n",
    "    if x < z:\n",
    "        median = x\n",
    "    elif y > z:\n",
    "        median = y\n",
    "    else:\n",
    "        median = z\n",
    "else:\n",
    "    if x > z:\n",
    "        median = x\n",
    "    elif y < z:\n",
    "        median = y\n",
    "    else:\n",
    "        median = z\n",
    "\n",
    "print(\"the median is:\",median)"
   ]
  },
  {
   "cell_type": "code",
   "execution_count": null,
   "id": "f46e41fd",
   "metadata": {},
   "outputs": [],
   "source": [
    "# program 41:  Write a Python program to get next day of a given date.\n",
    "\n"
   ]
  }
 ],
 "metadata": {
  "kernelspec": {
   "display_name": "Python 3 (ipykernel)",
   "language": "python",
   "name": "python3"
  },
  "language_info": {
   "codemirror_mode": {
    "name": "ipython",
    "version": 3
   },
   "file_extension": ".py",
   "mimetype": "text/x-python",
   "name": "python",
   "nbconvert_exporter": "python",
   "pygments_lexer": "ipython3",
   "version": "3.11.4"
  }
 },
 "nbformat": 4,
 "nbformat_minor": 5
}
