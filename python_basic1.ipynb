{
 "cells": [
  {
   "cell_type": "code",
   "execution_count": 1,
   "id": "95b271cf",
   "metadata": {},
   "outputs": [
    {
     "data": {
      "text/plain": [
       "'f3,F5'"
      ]
     },
     "execution_count": 1,
     "metadata": {},
     "output_type": "execute_result"
    }
   ],
   "source": [
    "'%x,%X'%(243,245)"
   ]
  },
  {
   "cell_type": "code",
   "execution_count": 9,
   "id": "be9cb3c3",
   "metadata": {},
   "outputs": [
    {
     "data": {
      "text/plain": [
       "'710'"
      ]
     },
     "execution_count": 9,
     "metadata": {},
     "output_type": "execute_result"
    }
   ],
   "source": [
    "'%o'% (456)"
   ]
  },
  {
   "cell_type": "code",
   "execution_count": 5,
   "id": "883b1618",
   "metadata": {},
   "outputs": [
    {
     "data": {
      "text/plain": [
       "'1.000000e+03'"
      ]
     },
     "execution_count": 5,
     "metadata": {},
     "output_type": "execute_result"
    }
   ],
   "source": [
    "'%e'% 1000"
   ]
  },
  {
   "cell_type": "code",
   "execution_count": 6,
   "id": "7507d8ea",
   "metadata": {},
   "outputs": [
    {
     "data": {
      "text/plain": [
       "'1.000000E+03'"
      ]
     },
     "execution_count": 6,
     "metadata": {},
     "output_type": "execute_result"
    }
   ],
   "source": [
    "'%E'%1000"
   ]
  },
  {
   "cell_type": "code",
   "execution_count": 7,
   "id": "0ae44879",
   "metadata": {},
   "outputs": [
    {
     "data": {
      "text/plain": [
       "'42'"
      ]
     },
     "execution_count": 7,
     "metadata": {},
     "output_type": "execute_result"
    }
   ],
   "source": [
    "'%g'%42\n"
   ]
  },
  {
   "cell_type": "code",
   "execution_count": 7,
   "id": "1f72411f",
   "metadata": {},
   "outputs": [
    {
     "ename": "TypeError",
     "evalue": "not all arguments converted during string formatting",
     "output_type": "error",
     "traceback": [
      "\u001b[1;31m---------------------------------------------------------------------------\u001b[0m",
      "\u001b[1;31mTypeError\u001b[0m                                 Traceback (most recent call last)",
      "Cell \u001b[1;32mIn[7], line 1\u001b[0m\n\u001b[1;32m----> 1\u001b[0m \u001b[38;5;124m'\u001b[39m\u001b[38;5;124mbananas are rupee\u001b[39m\u001b[38;5;124m'\u001b[39m\u001b[38;5;241m%\u001b[39m \u001b[38;5;241m5\u001b[39m\n",
      "\u001b[1;31mTypeError\u001b[0m: not all arguments converted during string formatting"
     ]
    }
   ],
   "source": [
    "'bananas are rupee'% 5"
   ]
  },
  {
   "cell_type": "code",
   "execution_count": 1,
   "id": "a63c8314",
   "metadata": {},
   "outputs": [
    {
     "data": {
      "text/plain": [
       "'Z'"
      ]
     },
     "execution_count": 1,
     "metadata": {},
     "output_type": "execute_result"
    }
   ],
   "source": [
    "'%c'% 90"
   ]
  },
  {
   "cell_type": "code",
   "execution_count": 4,
   "id": "4734054a",
   "metadata": {},
   "outputs": [
    {
     "data": {
      "text/plain": [
       "'[w]'"
      ]
     },
     "execution_count": 4,
     "metadata": {},
     "output_type": "execute_result"
    }
   ],
   "source": [
    "'[%c]'% 'w'\n"
   ]
  },
  {
   "cell_type": "code",
   "execution_count": 5,
   "id": "7e97f19c",
   "metadata": {},
   "outputs": [
    {
     "data": {
      "text/plain": [
       "'30'"
      ]
     },
     "execution_count": 5,
     "metadata": {},
     "output_type": "execute_result"
    }
   ],
   "source": [
    "'%d'% 30 \n"
   ]
  },
  {
   "cell_type": "code",
   "execution_count": 8,
   "id": "66ac7596",
   "metadata": {},
   "outputs": [
    {
     "name": "stdout",
     "output_type": "stream",
     "text": [
      "sum of: 30\n",
      "sum of: 90\n"
     ]
    }
   ],
   "source": [
    "sum=lambda x,y:x+y;\n",
    "print(\"sum of:\",sum(10,20))\n",
    "print(\"sum of:\",sum(40,50))\n"
   ]
  },
  {
   "cell_type": "code",
   "execution_count": 3,
   "id": "2a4f6ac0",
   "metadata": {},
   "outputs": [
    {
     "name": "stdout",
     "output_type": "stream",
     "text": [
      "[2, 4, 6, 8]\n"
     ]
    }
   ],
   "source": [
    "llist=[1,2,3,4,5,6,7,8,9]\n",
    "new_list=list(filter(lambda x:x%2==0,llist))\n",
    "print(new_list)\n"
   ]
  },
  {
   "cell_type": "code",
   "execution_count": null,
   "id": "3be9daa9",
   "metadata": {},
   "outputs": [],
   "source": []
  }
 ],
 "metadata": {
  "kernelspec": {
   "display_name": "Python 3 (ipykernel)",
   "language": "python",
   "name": "python3"
  },
  "language_info": {
   "codemirror_mode": {
    "name": "ipython",
    "version": 3
   },
   "file_extension": ".py",
   "mimetype": "text/x-python",
   "name": "python",
   "nbconvert_exporter": "python",
   "pygments_lexer": "ipython3",
   "version": "3.11.4"
  }
 },
 "nbformat": 4,
 "nbformat_minor": 5
}
